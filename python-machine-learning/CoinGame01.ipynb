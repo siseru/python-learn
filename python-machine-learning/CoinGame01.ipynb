{
 "cells": [
  {
   "cell_type": "code",
   "execution_count": 99,
   "metadata": {},
   "outputs": [],
   "source": [
    "import matplotlib.pyplot as plt\n",
    "import matplotlib.animation as animation\n",
    "import random"
   ]
  },
  {
   "cell_type": "code",
   "execution_count": 123,
   "metadata": {},
   "outputs": [],
   "source": [
    "coins = 100              # 初期所持金\n",
    "gamers = [coins] * 6     # 6人のゲーマーの初期所持金を初期化\n",
    "loop = 100000            # 試行回数\n",
    "dice1 = dice2 = [0] *6\n",
    "x = [1,2,3,4,5,6]\n",
    "rent = 0"
   ]
  },
  {
   "cell_type": "code",
   "execution_count": 124,
   "metadata": {},
   "outputs": [
    {
     "name": "stdout",
     "output_type": "stream",
     "text": [
      "[150, 21, 199, 98, 73, 59] 822\n",
      "[33466, 33028, 33360, 33613, 33473, 33060] [33466, 33028, 33360, 33613, 33473, 33060]\n"
     ]
    }
   ],
   "source": [
    "\n",
    "\n",
    "for i in range(loop):\n",
    "    r1 = random.randint(0,5)\n",
    "    r2 = random.randint(0,5)\n",
    "    if gamers[r1] > 0:\n",
    "        gamers[r1] -= 1  # 場代を払った人の所持金を1減\n",
    "        gamers[r2] += 1  # 場代を貰った人の所持金を1増\n",
    "    else:\n",
    "        rent += 1        # 場代を支払えなかった場合の数\n",
    "    dice1[r1] += 1\n",
    "    dice2[r2] += 1\n",
    "\n",
    "print(gamers, rent)\n",
    "print(dice1, dice2)\n"
   ]
  },
  {
   "cell_type": "code",
   "execution_count": null,
   "metadata": {},
   "outputs": [],
   "source": []
  },
  {
   "cell_type": "code",
   "execution_count": 125,
   "metadata": {},
   "outputs": [
    {
     "data": {
      "image/png": "[encoded data removed]",
      "text/plain": [
       "<matplotlib.figure.Figure at 0x7fa0ecac9e80>"
      ]
     },
     "metadata": {},
     "output_type": "display_data"
    }
   ],
   "source": [
    "plt.bar(x,gamers)\n",
    "plt.show()"
   ]
  },
  {
   "cell_type": "code",
   "execution_count": 126,
   "metadata": {},
   "outputs": [
    {
     "data": {
      "image/png": "[encoded data removed]",
      "text/plain": [
       "<matplotlib.figure.Figure at 0x7fa0ecb6db38>"
      ]
     },
     "metadata": {},
     "output_type": "display_data"
    }
   ],
   "source": [
    "# それぞれのサイコロの結果の分布も念のため見ておく\n",
    "plt.bar(x,dice1)\n",
    "plt.show()"
   ]
  },
  {
   "cell_type": "code",
   "execution_count": 127,
   "metadata": {},
   "outputs": [
    {
     "data": {
      "image/png": "[encoded data removed]",
      "text/plain": [
       "<matplotlib.figure.Figure at 0x7fa0eca24828>"
      ]
     },
     "metadata": {},
     "output_type": "display_data"
    }
   ],
   "source": [
    "plt.bar(x,dice2)\n",
    "plt.show()"
   ]
  },
  {
   "cell_type": "code",
   "execution_count": null,
   "metadata": {},
   "outputs": [],
   "source": []
  }
 ],
 "metadata": {
  "kernelspec": {
   "display_name": "Python 3",
   "language": "python",
   "name": "python3"
  },
  "language_info": {
   "codemirror_mode": {
    "name": "ipython",
    "version": 3
   },
   "file_extension": ".py",
   "mimetype": "text/x-python",
   "name": "python",
   "nbconvert_exporter": "python",
   "pygments_lexer": "ipython3",
   "version": "3.4.5"
  }
 },
 "nbformat": 4,
 "nbformat_minor": 2
}
